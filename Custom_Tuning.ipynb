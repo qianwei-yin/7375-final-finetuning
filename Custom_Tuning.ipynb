{
 "cells": [
  {
   "cell_type": "markdown",
   "id": "4cbeca1d-5190-4346-8599-9222dac6b4c1",
   "metadata": {},
   "source": [
    "# LLM Fine Tuning"
   ]
  },
  {
   "cell_type": "code",
   "execution_count": 78,
   "id": "86d3261d",
   "metadata": {},
   "outputs": [],
   "source": [
    "import pandas as pd"
   ]
  },
  {
   "cell_type": "code",
   "execution_count": 80,
   "id": "0b6d3078",
   "metadata": {},
   "outputs": [],
   "source": [
    "questions = pd.read_csv(\"questions.csv\")"
   ]
  },
  {
   "cell_type": "code",
   "execution_count": 81,
   "id": "bfaf25c2",
   "metadata": {},
   "outputs": [
    {
     "data": {
      "text/html": [
       "<div>\n",
       "<style scoped>\n",
       "    .dataframe tbody tr th:only-of-type {\n",
       "        vertical-align: middle;\n",
       "    }\n",
       "\n",
       "    .dataframe tbody tr th {\n",
       "        vertical-align: top;\n",
       "    }\n",
       "\n",
       "    .dataframe thead th {\n",
       "        text-align: right;\n",
       "    }\n",
       "</style>\n",
       "<table border=\"1\" class=\"dataframe\">\n",
       "  <thead>\n",
       "    <tr style=\"text-align: right;\">\n",
       "      <th></th>\n",
       "      <th>answer</th>\n",
       "      <th>question</th>\n",
       "    </tr>\n",
       "  </thead>\n",
       "  <tbody>\n",
       "    <tr>\n",
       "      <th>290</th>\n",
       "      <td>Wrong</td>\n",
       "      <td>The priority value in a MongoDB replica set on...</td>\n",
       "    </tr>\n",
       "    <tr>\n",
       "      <th>291</th>\n",
       "      <td>Correct</td>\n",
       "      <td>The $map operator in MongoDB's aggregation fra...</td>\n",
       "    </tr>\n",
       "    <tr>\n",
       "      <th>292</th>\n",
       "      <td>Wrong</td>\n",
       "      <td>The $map operator in MongoDB is used to filter...</td>\n",
       "    </tr>\n",
       "    <tr>\n",
       "      <th>293</th>\n",
       "      <td>Correct</td>\n",
       "      <td>MongoDB's $accumulator operator allows for cus...</td>\n",
       "    </tr>\n",
       "    <tr>\n",
       "      <th>294</th>\n",
       "      <td>Wrong</td>\n",
       "      <td>The $accumulator operator in MongoDB is only u...</td>\n",
       "    </tr>\n",
       "  </tbody>\n",
       "</table>\n",
       "</div>"
      ],
      "text/plain": [
       "      answer                                           question\n",
       "290    Wrong  The priority value in a MongoDB replica set on...\n",
       "291  Correct  The $map operator in MongoDB's aggregation fra...\n",
       "292    Wrong  The $map operator in MongoDB is used to filter...\n",
       "293  Correct  MongoDB's $accumulator operator allows for cus...\n",
       "294    Wrong  The $accumulator operator in MongoDB is only u..."
      ]
     },
     "execution_count": 81,
     "metadata": {},
     "output_type": "execute_result"
    }
   ],
   "source": [
    "questions.head()\n",
    "questions.tail()"
   ]
  },
  {
   "cell_type": "markdown",
   "id": "d1ca0d6f",
   "metadata": {},
   "source": [
    "### Preprocessing"
   ]
  },
  {
   "cell_type": "code",
   "execution_count": 82,
   "id": "ad881bc3",
   "metadata": {},
   "outputs": [
    {
     "name": "stdout",
     "output_type": "stream",
     "text": [
      "<class 'pandas.core.frame.DataFrame'>\n",
      "RangeIndex: 295 entries, 0 to 294\n",
      "Data columns (total 2 columns):\n",
      " #   Column    Non-Null Count  Dtype \n",
      "---  ------    --------------  ----- \n",
      " 0   answer    295 non-null    object\n",
      " 1   question  295 non-null    object\n",
      "dtypes: object(2)\n",
      "memory usage: 4.7+ KB\n"
     ]
    }
   ],
   "source": [
    "questions.info()"
   ]
  },
  {
   "cell_type": "code",
   "execution_count": 83,
   "id": "6543beb9",
   "metadata": {},
   "outputs": [
    {
     "name": "stdout",
     "output_type": "stream",
     "text": [
      "<class 'pandas.core.frame.DataFrame'>\n",
      "RangeIndex: 295 entries, 0 to 294\n",
      "Data columns (total 2 columns):\n",
      " #   Column    Non-Null Count  Dtype \n",
      "---  ------    --------------  ----- \n",
      " 0   answer    295 non-null    object\n",
      " 1   question  295 non-null    object\n",
      "dtypes: object(2)\n",
      "memory usage: 4.7+ KB\n"
     ]
    }
   ],
   "source": [
    "# Dropping rows where 'question' is missing\n",
    "questions.dropna(subset=['question'], inplace=True)\n",
    "questions.info()"
   ]
  },
  {
   "cell_type": "markdown",
   "id": "2d856dcb",
   "metadata": {},
   "source": [
    "### Train-Test Split\n",
    "Select samples for validation and test data"
   ]
  },
  {
   "cell_type": "code",
   "execution_count": 84,
   "id": "d9507a99",
   "metadata": {},
   "outputs": [
    {
     "data": {
      "text/html": [
       "<div>\n",
       "<style scoped>\n",
       "    .dataframe tbody tr th:only-of-type {\n",
       "        vertical-align: middle;\n",
       "    }\n",
       "\n",
       "    .dataframe tbody tr th {\n",
       "        vertical-align: top;\n",
       "    }\n",
       "\n",
       "    .dataframe thead th {\n",
       "        text-align: right;\n",
       "    }\n",
       "</style>\n",
       "<table border=\"1\" class=\"dataframe\">\n",
       "  <thead>\n",
       "    <tr style=\"text-align: right;\">\n",
       "      <th></th>\n",
       "      <th>answer</th>\n",
       "      <th>question</th>\n",
       "    </tr>\n",
       "  </thead>\n",
       "  <tbody>\n",
       "    <tr>\n",
       "      <th>1</th>\n",
       "      <td>Correct</td>\n",
       "      <td>MongoDB stores data in flexible JSON-like docu...</td>\n",
       "    </tr>\n",
       "    <tr>\n",
       "      <th>3</th>\n",
       "      <td>Wrong</td>\n",
       "      <td>MongoDB requires a predefined schema for all d...</td>\n",
       "    </tr>\n",
       "    <tr>\n",
       "      <th>4</th>\n",
       "      <td>Correct</td>\n",
       "      <td>The default primary key in MongoDB is named \"_...</td>\n",
       "    </tr>\n",
       "    <tr>\n",
       "      <th>6</th>\n",
       "      <td>Wrong</td>\n",
       "      <td>MongoDB uses SQL as its primary query language.</td>\n",
       "    </tr>\n",
       "    <tr>\n",
       "      <th>7</th>\n",
       "      <td>Correct</td>\n",
       "      <td>MongoDB supports geospatial indexing and queries.</td>\n",
       "    </tr>\n",
       "    <tr>\n",
       "      <th>...</th>\n",
       "      <td>...</td>\n",
       "      <td>...</td>\n",
       "    </tr>\n",
       "    <tr>\n",
       "      <th>289</th>\n",
       "      <td>Correct</td>\n",
       "      <td>In a MongoDB replica set, the priority value a...</td>\n",
       "    </tr>\n",
       "    <tr>\n",
       "      <th>290</th>\n",
       "      <td>Wrong</td>\n",
       "      <td>The priority value in a MongoDB replica set on...</td>\n",
       "    </tr>\n",
       "    <tr>\n",
       "      <th>291</th>\n",
       "      <td>Correct</td>\n",
       "      <td>The $map operator in MongoDB's aggregation fra...</td>\n",
       "    </tr>\n",
       "    <tr>\n",
       "      <th>292</th>\n",
       "      <td>Wrong</td>\n",
       "      <td>The $map operator in MongoDB is used to filter...</td>\n",
       "    </tr>\n",
       "    <tr>\n",
       "      <th>294</th>\n",
       "      <td>Wrong</td>\n",
       "      <td>The $accumulator operator in MongoDB is only u...</td>\n",
       "    </tr>\n",
       "  </tbody>\n",
       "</table>\n",
       "<p>195 rows × 2 columns</p>\n",
       "</div>"
      ],
      "text/plain": [
       "      answer                                           question\n",
       "1    Correct  MongoDB stores data in flexible JSON-like docu...\n",
       "3      Wrong  MongoDB requires a predefined schema for all d...\n",
       "4    Correct  The default primary key in MongoDB is named \"_...\n",
       "6      Wrong    MongoDB uses SQL as its primary query language.\n",
       "7    Correct  MongoDB supports geospatial indexing and queries.\n",
       "..       ...                                                ...\n",
       "289  Correct  In a MongoDB replica set, the priority value a...\n",
       "290    Wrong  The priority value in a MongoDB replica set on...\n",
       "291  Correct  The $map operator in MongoDB's aggregation fra...\n",
       "292    Wrong  The $map operator in MongoDB is used to filter...\n",
       "294    Wrong  The $accumulator operator in MongoDB is only u...\n",
       "\n",
       "[195 rows x 2 columns]"
      ]
     },
     "execution_count": 84,
     "metadata": {},
     "output_type": "execute_result"
    }
   ],
   "source": [
    "val_test_data = questions.sample(100)  # sample 100 items from the above data\n",
    "val = val_test_data.head(50) # Take the first 50\n",
    "test = val_test_data.tail(50) # Take the last 50\n",
    "\n",
    "train = questions[~questions.index.isin(val_test_data.index)] # Take the remaining ones for training\n",
    "\n",
    "len(train)\n",
    "train"
   ]
  },
  {
   "cell_type": "markdown",
   "id": "b7431eda",
   "metadata": {},
   "source": [
    "### Fine-tuning data formatting"
   ]
  },
  {
   "cell_type": "markdown",
   "id": "071b9bd9",
   "metadata": {},
   "source": [
    "We can now rearrange the dataset into the necessary format in order to start the fine tuning job.\n",
    "The format is as follows:\n",
    "\n",
    "```json\n",
    "{\"messages\": [{\"role\": \"system\", \"content\": \"You are a helpful assistant for answering questions about MongoDB\"}, {\"role\": \"user\", \"content\": \"question\"}, {\"role\": \"assistant\", \"content\": \"Correct or Wrong\"}]}\n",
    "```"
   ]
  },
  {
   "cell_type": "code",
   "execution_count": 85,
   "id": "6a0489e4",
   "metadata": {},
   "outputs": [],
   "source": [
    "system_prompt = \"Given the question about MongoDB, just say Correct or Wrong\""
   ]
  },
  {
   "cell_type": "code",
   "execution_count": 86,
   "id": "87ce0eed",
   "metadata": {},
   "outputs": [],
   "source": [
    "sample_prompt = {\"messages\": [{\"role\": \"system\", \"content\": system_prompt},\n",
    "                              {\"role\": \"user\", \"content\": train[\"question\"].iloc[0]},\n",
    "                              {\"role\": \"assistant\", \"content\": train[\"answer\"].iloc[0]}]}\n"
   ]
  },
  {
   "cell_type": "code",
   "execution_count": 87,
   "id": "b6b671b3",
   "metadata": {},
   "outputs": [
    {
     "name": "stdout",
     "output_type": "stream",
     "text": [
      "{'messages': [{'role': 'system', 'content': 'Given the question about MongoDB, just say Correct or Wrong'}, {'role': 'user', 'content': 'MongoDB stores data in flexible JSON-like documents.'}, {'role': 'assistant', 'content': 'Correct'}]}\n"
     ]
    }
   ],
   "source": [
    "print(sample_prompt)"
   ]
  },
  {
   "cell_type": "code",
   "execution_count": 88,
   "id": "cf1d87e6",
   "metadata": {},
   "outputs": [],
   "source": [
    "def df_to_format(df):\n",
    "    formatted_data = []\n",
    "    \n",
    "    for index, row in df.iterrows():\n",
    "        entry = {\"messages\": [{\"role\": \"system\", \"content\": system_prompt},\n",
    "                              {\"role\": \"user\", \"content\": row[\"question\"]},\n",
    "                              {\"role\": \"assistant\", \"content\": row[\"answer\"]}]}\n",
    "\n",
    "        formatted_data.append(entry)\n",
    "\n",
    "    return formatted_data\n"
   ]
  },
  {
   "cell_type": "code",
   "execution_count": 89,
   "id": "b8c47cfc",
   "metadata": {},
   "outputs": [],
   "source": [
    "data = df_to_format(train)"
   ]
  },
  {
   "cell_type": "code",
   "execution_count": 90,
   "id": "fc29fbfd",
   "metadata": {},
   "outputs": [
    {
     "name": "stdout",
     "output_type": "stream",
     "text": [
      "{'messages': [{'role': 'system', 'content': 'Given the question about MongoDB, just say Correct or Wrong'}, {'role': 'user', 'content': 'MongoDB allows for the creation of compound text indexes on multiple fields.'}, {'role': 'assistant', 'content': 'Correct'}]}\n"
     ]
    }
   ],
   "source": [
    "print(data[100])"
   ]
  },
  {
   "cell_type": "markdown",
   "id": "a72bce32",
   "metadata": {},
   "source": [
    "Let's dump this list of dictionaries into the training file"
   ]
  },
  {
   "cell_type": "code",
   "execution_count": 91,
   "id": "3835b710",
   "metadata": {},
   "outputs": [],
   "source": [
    "import json\n",
    "with open('fine_tuning_data.jsonl', 'w') as f:\n",
    "    for entry in data:\n",
    "        f.write(json.dumps(entry))\n",
    "        f.write(\"\\n\")\n"
   ]
  },
  {
   "cell_type": "code",
   "execution_count": 92,
   "id": "00c1cb73",
   "metadata": {},
   "outputs": [],
   "source": [
    "val_data = df_to_format(val)"
   ]
  },
  {
   "cell_type": "code",
   "execution_count": 93,
   "id": "493ffbd1",
   "metadata": {},
   "outputs": [],
   "source": [
    "import json\n",
    "with open('fine_tuning_data_val.jsonl', 'w') as f:\n",
    "    for entry in val_data:\n",
    "        f.write(json.dumps(entry))\n",
    "        f.write(\"\\n\")"
   ]
  },
  {
   "cell_type": "markdown",
   "id": "a6ff47b2",
   "metadata": {},
   "source": [
    "## Training"
   ]
  },
  {
   "cell_type": "code",
   "execution_count": 94,
   "id": "f6027b47",
   "metadata": {},
   "outputs": [
    {
     "data": {
      "text/plain": [
       "True"
      ]
     },
     "execution_count": 94,
     "metadata": {},
     "output_type": "execute_result"
    }
   ],
   "source": [
    "import os\n",
    "from openai import OpenAI\n",
    "from dotenv import load_dotenv\n",
    "\n",
    "load_dotenv()"
   ]
  },
  {
   "cell_type": "code",
   "execution_count": 95,
   "id": "a2dce8e1",
   "metadata": {},
   "outputs": [],
   "source": [
    "client = OpenAI()\n",
    "file_upload_response = client.files.create(\n",
    "  file=open(\"fine_tuning_data.jsonl\", \"rb\"),\n",
    "  purpose=\"fine-tune\",\n",
    ")"
   ]
  },
  {
   "cell_type": "code",
   "execution_count": 96,
   "id": "c81f46d8",
   "metadata": {},
   "outputs": [
    {
     "data": {
      "text/plain": [
       "FileObject(id='file-0F7bAVNK0c4GgEF7wyyKuKsY', bytes=51524, created_at=1723781068, filename='fine_tuning_data.jsonl', object='file', purpose='fine-tune', status='processed', status_details=None)"
      ]
     },
     "execution_count": 96,
     "metadata": {},
     "output_type": "execute_result"
    }
   ],
   "source": [
    "client.files.retrieve(file_upload_response.id)"
   ]
  },
  {
   "cell_type": "code",
   "execution_count": 97,
   "id": "8fee50f1",
   "metadata": {},
   "outputs": [],
   "source": [
    "file_upload_response_val = client.files.create(\n",
    "  file=open(\"fine_tuning_data_val.jsonl\", \"rb\"),\n",
    "  purpose=\"fine-tune\",\n",
    ")"
   ]
  },
  {
   "cell_type": "code",
   "execution_count": 98,
   "id": "54a3c0ed",
   "metadata": {},
   "outputs": [
    {
     "data": {
      "text/plain": [
       "FileObject(id='file-1K7q24OLbQHiD8TiP6nEzGUJ', bytes=13615, created_at=1723781074, filename='fine_tuning_data_val.jsonl', object='file', purpose='fine-tune', status='processed', status_details=None)"
      ]
     },
     "execution_count": 98,
     "metadata": {},
     "output_type": "execute_result"
    }
   ],
   "source": [
    "client.files.retrieve(file_upload_response_val.id)"
   ]
  },
  {
   "cell_type": "markdown",
   "id": "71a3b0eb",
   "metadata": {},
   "source": [
    "##### Now it's time to start the training process"
   ]
  },
  {
   "cell_type": "code",
   "execution_count": 99,
   "id": "58589286",
   "metadata": {},
   "outputs": [],
   "source": [
    "fine_tuning_response = client.fine_tuning.jobs.create(\n",
    "  training_file=file_upload_response.id,\n",
    "  model=\"gpt-3.5-turbo\",\n",
    "  hyperparameters={\"n_epochs\": 1},\n",
    "  validation_file = file_upload_response_val.id\n",
    ")"
   ]
  },
  {
   "cell_type": "markdown",
   "id": "6f5afb8f",
   "metadata": {},
   "source": [
    "To obtain the log, you can use *FineTuningJob.list_events* to which you pass the job id and a limit if you want "
   ]
  },
  {
   "cell_type": "code",
   "execution_count": 101,
   "id": "16510ae2",
   "metadata": {},
   "outputs": [
    {
     "data": {
      "text/plain": [
       "'ftjob-WvKyavfPbRK7fJUYjzK2RYvP'"
      ]
     },
     "execution_count": 101,
     "metadata": {},
     "output_type": "execute_result"
    }
   ],
   "source": [
    "ft_id = fine_tuning_response.id\n",
    "ft_id"
   ]
  },
  {
   "cell_type": "markdown",
   "id": "bcdb2307",
   "metadata": {},
   "source": [
    "### Plot losses\n",
    "Obtain all event data and plot the training metrics."
   ]
  },
  {
   "cell_type": "code",
   "execution_count": 102,
   "id": "44b37e1b",
   "metadata": {},
   "outputs": [],
   "source": [
    "train_event = client.fine_tuning.jobs.list_events(fine_tuning_job_id=ft_id, limit=500)"
   ]
  },
  {
   "cell_type": "code",
   "execution_count": 103,
   "id": "e40669e9",
   "metadata": {},
   "outputs": [],
   "source": [
    "train_loss = []\n",
    "val_loss = []\n",
    "train_acc = []\n",
    "val_acc = []\n",
    "for item in train_event.data:\n",
    "    train_data = item.data\n",
    "    if train_data and \"train_loss\" in train_data and \"valid_loss\" in train_data:\n",
    "        \n",
    "        # As the event list returns the most current event at first, we don't want to append but insert\n",
    "        train_loss.insert(0, train_data[\"train_loss\"])\n",
    "        val_loss.insert(0, train_data[\"valid_loss\"])\n",
    "        train_acc.insert(0, train_data[\"train_mean_token_accuracy\"])\n",
    "        val_acc.insert(0, train_data[\"valid_mean_token_accuracy\"])\n"
   ]
  },
  {
   "cell_type": "code",
   "execution_count": 104,
   "id": "56afec38",
   "metadata": {},
   "outputs": [
    {
     "data": {
      "text/plain": [
       "[<matplotlib.lines.Line2D at 0x12904ab50>]"
      ]
     },
     "execution_count": 104,
     "metadata": {},
     "output_type": "execute_result"
    },
    {
     "data": {
      "image/png": "[encoded data removed]",
      "text/plain": [
       "<Figure size 640x480 with 1 Axes>"
      ]
     },
     "metadata": {},
     "output_type": "display_data"
    }
   ],
   "source": [
    "import matplotlib.pyplot as plt\n",
    "plt.figure()\n",
    "plt.plot(train_loss)\n",
    "plt.plot(val_loss)"
   ]
  },
  {
   "cell_type": "code",
   "execution_count": 105,
   "id": "9dec75cb",
   "metadata": {},
   "outputs": [
    {
     "name": "stdout",
     "output_type": "stream",
     "text": [
      "ft:gpt-3.5-turbo-0125:personal::9wieB8S8\n"
     ]
    }
   ],
   "source": [
    "ft_model_id = client.fine_tuning.jobs.retrieve(ft_id).fine_tuned_model\n",
    "print(ft_model_id)"
   ]
  },
  {
   "cell_type": "code",
   "execution_count": 106,
   "id": "0a4877bf",
   "metadata": {},
   "outputs": [],
   "source": [
    "import numpy as np"
   ]
  },
  {
   "cell_type": "markdown",
   "id": "5e8eaf1c",
   "metadata": {},
   "source": [
    "### Comparison to gpt-3.5-turbo\n",
    "Compare how our model works compared to the standard model"
   ]
  },
  {
   "cell_type": "code",
   "execution_count": 107,
   "id": "f9a17591",
   "metadata": {},
   "outputs": [],
   "source": [
    "import time\n",
    "# from tqdm.notebook import tqdm\n",
    "\n",
    "def classify_report_baseline(question):\n",
    "    try:\n",
    "        completion = client.chat.completions.create(\n",
    "            model = \"gpt-3.5-turbo\",\n",
    "            messages=[\n",
    "                    {\"role\": \"system\", \"content\": system_prompt},\n",
    "                    {\"role\": \"user\", \"content\": question}\n",
    "                    ],\n",
    "            temperature=0\n",
    "        )\n",
    "    except client.error.APIConnectionError:  # To retry if openai loses the connection\n",
    "        time.sleep(10)\n",
    "        completion = client.chat.completions.create(\n",
    "            model = \"gpt-3.5-turbo\",\n",
    "            messages=[\n",
    "                    {\"role\": \"system\", \"content\": system_prompt},\n",
    "                    {\"role\": \"user\", \"content\": question}\n",
    "                    ],\n",
    "            temperature=0\n",
    "        )\n",
    "\n",
    "    return completion\n"
   ]
  },
  {
   "cell_type": "code",
   "execution_count": 108,
   "id": "ce5a41db",
   "metadata": {},
   "outputs": [],
   "source": [
    "predicted_classes = []\n",
    "ground_truth_classes = []\n",
    "for line in test.iterrows():\n",
    "    report, specialty = line[1][\"question\"], line[1][\"answer\"]\n",
    "    ground_truth_classes.append(specialty.strip())  # in case of any trailing\n",
    "    prediction = classify_report_baseline(report)\n",
    "    predicted_classes.append(prediction.choices[0].message.content.strip())"
   ]
  },
  {
   "cell_type": "code",
   "execution_count": 109,
   "id": "08ed08e7",
   "metadata": {},
   "outputs": [
    {
     "data": {
      "text/plain": [
       "np.float64(0.84)"
      ]
     },
     "execution_count": 109,
     "metadata": {},
     "output_type": "execute_result"
    }
   ],
   "source": [
    "(np.array(predicted_classes) == np.array(ground_truth_classes)).mean()"
   ]
  },
  {
   "cell_type": "markdown",
   "id": "ae143092",
   "metadata": {},
   "source": [
    "### Fine-tuned model"
   ]
  },
  {
   "cell_type": "code",
   "execution_count": 110,
   "id": "aa192f24",
   "metadata": {},
   "outputs": [],
   "source": [
    "def classify_report(question):\n",
    "    completion = client.chat.completions.create(\n",
    "        model = ft_model_id, \n",
    "        messages=[\n",
    "                {\"role\": \"system\", \"content\": system_prompt},\n",
    "                {\"role\": \"user\", \"content\": question}\n",
    "              ]\n",
    "    )\n",
    "    return completion"
   ]
  },
  {
   "cell_type": "code",
   "execution_count": 111,
   "id": "c14c61b0",
   "metadata": {},
   "outputs": [],
   "source": [
    "predicted_classes = []\n",
    "ground_truth_classes = []\n",
    "for line in test.iterrows():\n",
    "    report, specialty = line[1][\"question\"], line[1][\"answer\"]\n",
    "    ground_truth_classes.append(specialty.strip())  # in case of any trailing\n",
    "    prediction = classify_report(report)\n",
    "    predicted_classes.append(prediction.choices[0].message.content.strip())"
   ]
  },
  {
   "cell_type": "code",
   "execution_count": 112,
   "id": "91608574",
   "metadata": {},
   "outputs": [
    {
     "data": {
      "text/plain": [
       "np.float64(1.0)"
      ]
     },
     "execution_count": 112,
     "metadata": {},
     "output_type": "execute_result"
    }
   ],
   "source": [
    "(np.array(predicted_classes) == np.array(ground_truth_classes)).mean()"
   ]
  }
 ],
 "metadata": {
  "kernelspec": {
   "display_name": "Python 3 (ipykernel)",
   "language": "python",
   "name": "python3"
  },
  "language_info": {
   "codemirror_mode": {
    "name": "ipython",
    "version": 3
   },
   "file_extension": ".py",
   "mimetype": "text/x-python",
   "name": "python",
   "nbconvert_exporter": "python",
   "pygments_lexer": "ipython3",
   "version": "3.11.9"
  }
 },
 "nbformat": 4,
 "nbformat_minor": 5
}
